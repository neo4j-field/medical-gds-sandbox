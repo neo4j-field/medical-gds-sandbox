{
 "cells": [
  {
   "cell_type": "code",
   "execution_count": null,
   "id": "0e828367-45ed-4183-ba18-b1ab3c818de2",
   "metadata": {},
   "outputs": [],
   "source": [
    "from neo4j import GraphDatabase"
   ]
  },
  {
   "cell_type": "code",
   "execution_count": null,
   "id": "28738072-d507-4ab0-84d0-edd64cf9b679",
   "metadata": {
    "tags": []
   },
   "outputs": [],
   "source": [
    "URI = \"neo4j://localhost\"\n",
    "AUTH = (\"neo4j\", \"neo4jneo4j\")\n",
    "DB = 'medical'"
   ]
  },
  {
   "cell_type": "code",
   "execution_count": null,
   "id": "27d45708-a2d5-4e8b-b528-867f722db785",
   "metadata": {},
   "outputs": [],
   "source": [
    "DATASET= 'medical_2000' # medical_20"
   ]
  },
  {
   "cell_type": "code",
   "execution_count": null,
   "id": "448f2fbd-8e9d-4977-a44f-452d0f4bcac1",
   "metadata": {},
   "outputs": [],
   "source": [
    "CONSTRAINTS = [\n",
    "    \"CREATE CONSTRAINT PatientConstraint IF NOT EXISTS FOR (p:Patient) REQUIRE p.PatientID IS UNIQUE;\",\n",
    "    \"CREATE CONSTRAINT DrugConstraint IF NOT EXISTS FOR (d:Drug) REQUIRE d.ID IS UNIQUE;\",\n",
    "    \"CREATE CONSTRAINT DiagConstraint IF NOT EXISTS FOR (d:Diag) REQUIRE d.ID IS UNIQUE;\",\n",
    "    \"CREATE CONSTRAINT WeightConstraint IF NOT EXISTS FOR (w:Weight) REQUIRE w.Value IS UNIQUE;\",\n",
    "    \"CREATE CONSTRAINT IHDConstraint IF NOT EXISTS FOR (i:IHD) REQUIRE i.Name IS UNIQUE;\"\n",
    "]"
   ]
  },
  {
   "cell_type": "code",
   "execution_count": null,
   "id": "2a7c0220-d41e-4deb-8178-274d2ad2a63b",
   "metadata": {},
   "outputs": [],
   "source": [
    "LOAD_CSVS = [\n",
    "\"\"\"LOAD CSV WITH HEADERS FROM 'https://raw.githubusercontent.com/neo4j-field/medical-gds-sandbox/main/data/\"\"\" + DATASET + \"\"\"/patients.csv' AS line\n",
    "MERGE (p:Patient {PatientID: line.PatientID})\n",
    "SET p.Age = toInteger(line.Age)\n",
    "MERGE (w:Weight {Value: toInteger(line.Weight)})\n",
    "MERGE (p)-[:MEASURES]->(w)\"\"\",\n",
    "\"\"\"LOAD CSV WITH HEADERS FROM 'https://raw.githubusercontent.com/neo4j-field/medical-gds-sandbox/main/data/\"\"\" + DATASET + \"\"\"/ihds.csv' AS line\n",
    "MERGE (p:Patient {PatientID: line.PatientID})\n",
    "MERGE (i:IHD {Name:line.IHD})\n",
    "MERGE (p)-[:IHD_RISK]->(i)\"\"\",\n",
    "\"\"\"LOAD CSV WITH HEADERS FROM 'https://raw.githubusercontent.com/neo4j-field/medical-gds-sandbox/main/data/\"\"\" + DATASET + \"\"\"/drugs.csv' AS line\n",
    "MERGE (p:Patient {PatientID: line.PatientID})\n",
    "MERGE (d:Drug {ID: line.Drug})\n",
    "MERGE (p)-[:PRESCRIBED]->(d)\"\"\",\n",
    "\"\"\"LOAD CSV WITH HEADERS FROM 'https://raw.githubusercontent.com/neo4j-field/medical-gds-sandbox/main/data/\"\"\" + DATASET + \"\"\"/diags.csv' AS line\n",
    "MERGE (p:Patient {PatientID: line.PatientID})\n",
    "MERGE (d:Diag {ID: line.Diag})\n",
    "MERGE (p)-[:DIAGNOSED_WITH]->(d)\"\"\"\n",
    "]"
   ]
  },
  {
   "cell_type": "code",
   "execution_count": null,
   "id": "e2be35f1-d8c8-4dca-b564-19b24c7863a0",
   "metadata": {},
   "outputs": [],
   "source": [
    "with GraphDatabase.driver(URI, auth=AUTH) as driver: \n",
    "    driver.verify_connectivity() "
   ]
  },
  {
   "cell_type": "code",
   "execution_count": null,
   "id": "be88ca30-cbe2-4525-8bde-f3bc90fa6581",
   "metadata": {},
   "outputs": [],
   "source": [
    "def delete_all(tx):  \n",
    "    result = tx.run(\"MATCH (n) DETACH DELETE n\")\n",
    "    summary = result.consume()\n",
    "    return summary"
   ]
  },
  {
   "cell_type": "code",
   "execution_count": null,
   "id": "4b91641b-eb8e-4486-b2c9-34112368d95e",
   "metadata": {
    "tags": []
   },
   "outputs": [],
   "source": [
    "with driver.session(database=DB) as session:\n",
    "    summary = session.execute_write(delete_all)  # Delete all\n",
    "    for c in CONSTRAINTS:\n",
    "        session.execute_write(lambda tx: tx.run(c))\n",
    "    for l in LOAD_CSVS:\n",
    "        session.execute_write(lambda tx: tx.run(l))"
   ]
  }
 ],
 "metadata": {
  "kernelspec": {
   "display_name": "Python 3 (ipykernel)",
   "language": "python",
   "name": "python3"
  },
  "language_info": {
   "codemirror_mode": {
    "name": "ipython",
    "version": 3
   },
   "file_extension": ".py",
   "mimetype": "text/x-python",
   "name": "python",
   "nbconvert_exporter": "python",
   "pygments_lexer": "ipython3",
   "version": "3.10.9"
  }
 },
 "nbformat": 4,
 "nbformat_minor": 5
}
