{
 "cells": [
  {
   "cell_type": "code",
   "execution_count": 1,
   "id": "0e828367-45ed-4183-ba18-b1ab3c818de2",
   "metadata": {
    "execution": {
     "iopub.execute_input": "2023-03-20T04:19:14.288090Z",
     "iopub.status.busy": "2023-03-20T04:19:14.288090Z",
     "iopub.status.idle": "2023-03-20T04:19:14.862182Z",
     "shell.execute_reply": "2023-03-20T04:19:14.862182Z",
     "shell.execute_reply.started": "2023-03-20T04:19:14.288090Z"
    }
   },
   "outputs": [],
   "source": [
    "from neo4j import GraphDatabase"
   ]
  },
  {
   "cell_type": "code",
   "execution_count": 2,
   "id": "28738072-d507-4ab0-84d0-edd64cf9b679",
   "metadata": {
    "execution": {
     "iopub.execute_input": "2023-03-20T04:19:14.864182Z",
     "iopub.status.busy": "2023-03-20T04:19:14.864182Z",
     "iopub.status.idle": "2023-03-20T04:19:14.878312Z",
     "shell.execute_reply": "2023-03-20T04:19:14.878312Z",
     "shell.execute_reply.started": "2023-03-20T04:19:14.864182Z"
    }
   },
   "outputs": [],
   "source": [
    "URI = \"neo4j://localhost\"\n",
    "AUTH = (\"neo4j\", \"neo4jneo4j\")\n",
    "DB = 'medical'"
   ]
  },
  {
   "cell_type": "code",
   "execution_count": 3,
   "id": "27d45708-a2d5-4e8b-b528-867f722db785",
   "metadata": {
    "execution": {
     "iopub.execute_input": "2023-03-20T04:19:14.879328Z",
     "iopub.status.busy": "2023-03-20T04:19:14.879328Z",
     "iopub.status.idle": "2023-03-20T04:19:14.895273Z",
     "shell.execute_reply": "2023-03-20T04:19:14.894321Z",
     "shell.execute_reply.started": "2023-03-20T04:19:14.879328Z"
    }
   },
   "outputs": [],
   "source": [
    "DATASET= 'medical_2000' # medical_20"
   ]
  },
  {
   "cell_type": "code",
   "execution_count": 4,
   "id": "448f2fbd-8e9d-4977-a44f-452d0f4bcac1",
   "metadata": {
    "execution": {
     "iopub.execute_input": "2023-03-20T04:19:14.895273Z",
     "iopub.status.busy": "2023-03-20T04:19:14.895273Z",
     "iopub.status.idle": "2023-03-20T04:19:14.910336Z",
     "shell.execute_reply": "2023-03-20T04:19:14.910336Z",
     "shell.execute_reply.started": "2023-03-20T04:19:14.895273Z"
    }
   },
   "outputs": [],
   "source": [
    "CONSTRAINTS = [\n",
    "    \"CREATE CONSTRAINT PatientConstraint IF NOT EXISTS FOR (p:Patient) REQUIRE p.PatientID IS UNIQUE;\",\n",
    "    \"CREATE CONSTRAINT DrugConstraint IF NOT EXISTS FOR (d:Drug) REQUIRE d.ID IS UNIQUE;\",\n",
    "    \"CREATE CONSTRAINT DiagConstraint IF NOT EXISTS FOR (d:Diag) REQUIRE d.ID IS UNIQUE;\",\n",
    "    \"CREATE CONSTRAINT WeightConstraint IF NOT EXISTS FOR (w:Weight) REQUIRE w.Value IS UNIQUE;\",\n",
    "    \"CREATE CONSTRAINT IHDConstraint IF NOT EXISTS FOR (i:IHD) REQUIRE i.Name IS UNIQUE;\"\n",
    "]"
   ]
  },
  {
   "cell_type": "code",
   "execution_count": 5,
   "id": "2a7c0220-d41e-4deb-8178-274d2ad2a63b",
   "metadata": {
    "execution": {
     "iopub.execute_input": "2023-03-20T04:19:14.912348Z",
     "iopub.status.busy": "2023-03-20T04:19:14.911405Z",
     "iopub.status.idle": "2023-03-20T04:19:14.926973Z",
     "shell.execute_reply": "2023-03-20T04:19:14.925900Z",
     "shell.execute_reply.started": "2023-03-20T04:19:14.911405Z"
    }
   },
   "outputs": [],
   "source": [
    "LOAD_CSVS = [\n",
    "\"\"\"LOAD CSV WITH HEADERS FROM 'https://raw.githubusercontent.com/neo4j-field/medical-gds-sandbox/main/data/\"\"\" + DATASET + \"\"\"/patients.csv' AS line\n",
    "MERGE (p:Patient {PatientID: line.PatientID})\n",
    "SET p.Age = toInteger(line.Age)\n",
    "MERGE (w:Weight {Value: toInteger(line.Weight)})\n",
    "MERGE (p)-[:MEASURES]->(w)\"\"\",\n",
    "\"\"\"LOAD CSV WITH HEADERS FROM 'https://raw.githubusercontent.com/neo4j-field/medical-gds-sandbox/main/data/\"\"\" + DATASET + \"\"\"/ihds.csv' AS line\n",
    "MERGE (p:Patient {PatientID: line.PatientID})\n",
    "MERGE (i:IHD {Name:line.IHD})\n",
    "MERGE (p)-[:IHD_RISK]->(i)\"\"\",\n",
    "\"\"\"LOAD CSV WITH HEADERS FROM 'https://raw.githubusercontent.com/neo4j-field/medical-gds-sandbox/main/data/\"\"\" + DATASET + \"\"\"/drugs.csv' AS line\n",
    "MERGE (p:Patient {PatientID: line.PatientID})\n",
    "MERGE (d:Drug {ID: line.Drug})\n",
    "MERGE (p)-[:PRESCRIBED]->(d)\"\"\",\n",
    "\"\"\"LOAD CSV WITH HEADERS FROM 'https://raw.githubusercontent.com/neo4j-field/medical-gds-sandbox/main/data/\"\"\" + DATASET + \"\"\"/diags.csv' AS line\n",
    "MERGE (p:Patient {PatientID: line.PatientID})\n",
    "MERGE (d:Diag {ID: line.Diag})\n",
    "MERGE (p)-[:DIAGNOSED_WITH]->(d)\"\"\"\n",
    "]"
   ]
  },
  {
   "cell_type": "code",
   "execution_count": 6,
   "id": "e2be35f1-d8c8-4dca-b564-19b24c7863a0",
   "metadata": {
    "execution": {
     "iopub.execute_input": "2023-03-20T04:19:14.928899Z",
     "iopub.status.busy": "2023-03-20T04:19:14.927955Z",
     "iopub.status.idle": "2023-03-20T04:19:19.095718Z",
     "shell.execute_reply": "2023-03-20T04:19:19.093895Z",
     "shell.execute_reply.started": "2023-03-20T04:19:14.928899Z"
    }
   },
   "outputs": [],
   "source": [
    "with GraphDatabase.driver(URI, auth=AUTH) as driver: \n",
    "    driver.verify_connectivity() "
   ]
  },
  {
   "cell_type": "code",
   "execution_count": 7,
   "id": "be88ca30-cbe2-4525-8bde-f3bc90fa6581",
   "metadata": {
    "execution": {
     "iopub.execute_input": "2023-03-20T04:19:19.100736Z",
     "iopub.status.busy": "2023-03-20T04:19:19.099735Z",
     "iopub.status.idle": "2023-03-20T04:19:19.110763Z",
     "shell.execute_reply": "2023-03-20T04:19:19.109757Z",
     "shell.execute_reply.started": "2023-03-20T04:19:19.100736Z"
    }
   },
   "outputs": [],
   "source": [
    "def delete_all(tx):  \n",
    "    result = tx.run(\"MATCH (n) DETACH DELETE n\")\n",
    "    summary = result.consume()\n",
    "    return summary"
   ]
  },
  {
   "cell_type": "code",
   "execution_count": 8,
   "id": "4b91641b-eb8e-4486-b2c9-34112368d95e",
   "metadata": {
    "execution": {
     "iopub.execute_input": "2023-03-20T04:19:19.112756Z",
     "iopub.status.busy": "2023-03-20T04:19:19.112756Z",
     "iopub.status.idle": "2023-03-20T04:19:25.593202Z",
     "shell.execute_reply": "2023-03-20T04:19:25.592200Z",
     "shell.execute_reply.started": "2023-03-20T04:19:19.112756Z"
    },
    "tags": []
   },
   "outputs": [],
   "source": [
    "with driver.session(database=DB) as session:\n",
    "    summary = session.execute_write(delete_all)  # Delete all\n",
    "    for c in CONSTRAINTS:\n",
    "        session.execute_write(lambda tx: tx.run(c))\n",
    "    for l in LOAD_CSVS:\n",
    "        session.execute_write(lambda tx: tx.run(l))"
   ]
  }
 ],
 "metadata": {
  "kernelspec": {
   "display_name": "Python 3 (ipykernel)",
   "language": "python",
   "name": "python3"
  },
  "language_info": {
   "codemirror_mode": {
    "name": "ipython",
    "version": 3
   },
   "file_extension": ".py",
   "mimetype": "text/x-python",
   "name": "python",
   "nbconvert_exporter": "python",
   "pygments_lexer": "ipython3",
   "version": "3.10.9"
  }
 },
 "nbformat": 4,
 "nbformat_minor": 5
}
