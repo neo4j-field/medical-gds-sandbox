{
 "cells": [
  {
   "cell_type": "code",
   "execution_count": 1,
   "id": "606f72eb-2cae-4302-ac9d-eb097a6a4f75",
   "metadata": {
    "execution": {
     "iopub.execute_input": "2023-03-20T05:58:41.651965Z",
     "iopub.status.busy": "2023-03-20T05:58:41.651965Z",
     "iopub.status.idle": "2023-03-20T05:58:42.365352Z",
     "shell.execute_reply": "2023-03-20T05:58:42.364456Z",
     "shell.execute_reply.started": "2023-03-20T05:58:41.651965Z"
    },
    "tags": []
   },
   "outputs": [],
   "source": [
    "from graphdatascience import GraphDataScience"
   ]
  },
  {
   "cell_type": "code",
   "execution_count": 2,
   "id": "beabcbc6-a988-4b7c-8a0f-b9bb05c4ad29",
   "metadata": {
    "execution": {
     "iopub.execute_input": "2023-03-20T05:58:42.366452Z",
     "iopub.status.busy": "2023-03-20T05:58:42.366452Z",
     "iopub.status.idle": "2023-03-20T05:58:42.380147Z",
     "shell.execute_reply": "2023-03-20T05:58:42.379142Z",
     "shell.execute_reply.started": "2023-03-20T05:58:42.366452Z"
    },
    "tags": []
   },
   "outputs": [],
   "source": [
    "URI = \"bolt://localhost:7687\"\n",
    "AUTH = (\"neo4j\", \"neo4jneo4j\")\n",
    "DB = 'medical'"
   ]
  },
  {
   "cell_type": "code",
   "execution_count": 3,
   "id": "2b0495b1-af2b-4c07-af8d-d9364b7a2a12",
   "metadata": {
    "execution": {
     "iopub.execute_input": "2023-03-20T05:58:42.381110Z",
     "iopub.status.busy": "2023-03-20T05:58:42.381110Z",
     "iopub.status.idle": "2023-03-20T05:58:46.535192Z",
     "shell.execute_reply": "2023-03-20T05:58:46.534191Z",
     "shell.execute_reply.started": "2023-03-20T05:58:42.381110Z"
    },
    "tags": []
   },
   "outputs": [
    {
     "name": "stdout",
     "output_type": "stream",
     "text": [
      "2.3.1\n"
     ]
    }
   ],
   "source": [
    "gds = GraphDataScience(URI, AUTH, database=DB)\n",
    "print(gds.version())"
   ]
  },
  {
   "cell_type": "code",
   "execution_count": 4,
   "id": "cb6f57c3-c223-443b-8ca0-e421486f7368",
   "metadata": {
    "execution": {
     "iopub.execute_input": "2023-03-20T05:58:46.536196Z",
     "iopub.status.busy": "2023-03-20T05:58:46.536196Z",
     "iopub.status.idle": "2023-03-20T05:58:46.551252Z",
     "shell.execute_reply": "2023-03-20T05:58:46.550252Z",
     "shell.execute_reply.started": "2023-03-20T05:58:46.536196Z"
    }
   },
   "outputs": [],
   "source": [
    "graphname = \"mygraph\"\n",
    "pipelinename = \"mypipe\"\n",
    "modelname = \"mymodel\""
   ]
  },
  {
   "cell_type": "code",
   "execution_count": 5,
   "id": "a7c1cba4-0610-4e8e-b56f-da89510bb35d",
   "metadata": {
    "execution": {
     "iopub.execute_input": "2023-03-20T05:58:46.552253Z",
     "iopub.status.busy": "2023-03-20T05:58:46.552253Z",
     "iopub.status.idle": "2023-03-20T05:58:46.567207Z",
     "shell.execute_reply": "2023-03-20T05:58:46.566206Z",
     "shell.execute_reply.started": "2023-03-20T05:58:46.552253Z"
    },
    "tags": []
   },
   "outputs": [
    {
     "data": {
      "text/plain": [
       "pipelineName                               mypipe\n",
       "pipelineType    Link prediction training pipeline\n",
       "exists                                       True\n",
       "Name: 0, dtype: object"
      ]
     },
     "execution_count": 5,
     "metadata": {},
     "output_type": "execute_result"
    }
   ],
   "source": [
    "gds.beta.pipeline.exists(pipelinename)"
   ]
  },
  {
   "cell_type": "code",
   "execution_count": 6,
   "id": "925cef7e-60e4-4fc6-93e3-b41c80310100",
   "metadata": {
    "execution": {
     "iopub.execute_input": "2023-03-20T05:58:46.568216Z",
     "iopub.status.busy": "2023-03-20T05:58:46.568216Z",
     "iopub.status.idle": "2023-03-20T05:58:46.659314Z",
     "shell.execute_reply": "2023-03-20T05:58:46.659314Z",
     "shell.execute_reply.started": "2023-03-20T05:58:46.568216Z"
    },
    "tags": []
   },
   "outputs": [],
   "source": [
    "if gds.graph.exists(graphname).exists:\n",
    "    gds.graph.drop(gds.graph.get(graphname))\n",
    "if gds.beta.pipeline.exists(pipelinename).exists:\n",
    "    gds.pipeline.get(pipelinename).drop()\n",
    "if gds.beta.model.exists(modelname).exists:\n",
    "    gds.model.get(modelname).drop()"
   ]
  },
  {
   "cell_type": "code",
   "execution_count": 7,
   "id": "8890b841-c2e5-4205-86ea-1b4d4d073106",
   "metadata": {
    "execution": {
     "iopub.execute_input": "2023-03-20T05:58:46.661310Z",
     "iopub.status.busy": "2023-03-20T05:58:46.661310Z",
     "iopub.status.idle": "2023-03-20T05:58:46.675901Z",
     "shell.execute_reply": "2023-03-20T05:58:46.674906Z",
     "shell.execute_reply.started": "2023-03-20T05:58:46.661310Z"
    },
    "tags": []
   },
   "outputs": [],
   "source": [
    "pipe, _ = gds.beta.pipeline.linkPrediction.create(pipelinename)"
   ]
  },
  {
   "cell_type": "code",
   "execution_count": 8,
   "id": "bd25e8a0-3854-4bfc-8000-e49f20931737",
   "metadata": {
    "execution": {
     "iopub.execute_input": "2023-03-20T05:58:46.677905Z",
     "iopub.status.busy": "2023-03-20T05:58:46.677905Z",
     "iopub.status.idle": "2023-03-20T05:58:46.706248Z",
     "shell.execute_reply": "2023-03-20T05:58:46.705241Z",
     "shell.execute_reply.started": "2023-03-20T05:58:46.677905Z"
    },
    "tags": []
   },
   "outputs": [
    {
     "data": {
      "text/plain": [
       "name                                                            mypipe\n",
       "nodePropertySteps    [{'name': 'gds.fastRP.mutate', 'config': {'ran...\n",
       "featureSteps                                                        []\n",
       "splitConfig          {'negativeSamplingRatio': 1.0, 'testFraction':...\n",
       "autoTuningConfig                                     {'maxTrials': 10}\n",
       "parameterSpace       {'MultilayerPerceptron': [], 'RandomForest': [...\n",
       "Name: 0, dtype: object"
      ]
     },
     "execution_count": 8,
     "metadata": {},
     "output_type": "execute_result"
    }
   ],
   "source": [
    "pipe.addNodeProperty('fastRP', mutateProperty = 'embedding', embeddingDimension = 256, randomSeed = 42, iterationWeights = [1.0])"
   ]
  },
  {
   "cell_type": "code",
   "execution_count": 9,
   "id": "7b771406-6059-4508-8690-4a5a3545d708",
   "metadata": {
    "execution": {
     "iopub.execute_input": "2023-03-20T05:58:46.708249Z",
     "iopub.status.busy": "2023-03-20T05:58:46.708249Z",
     "iopub.status.idle": "2023-03-20T05:58:46.721886Z",
     "shell.execute_reply": "2023-03-20T05:58:46.720887Z",
     "shell.execute_reply.started": "2023-03-20T05:58:46.708249Z"
    },
    "tags": []
   },
   "outputs": [
    {
     "data": {
      "text/plain": [
       "name                                                            mypipe\n",
       "nodePropertySteps    [{'name': 'gds.fastRP.mutate', 'config': {'ran...\n",
       "featureSteps         [{'name': 'COSINE', 'config': {'nodeProperties...\n",
       "splitConfig          {'negativeSamplingRatio': 1.0, 'testFraction':...\n",
       "autoTuningConfig                                     {'maxTrials': 10}\n",
       "parameterSpace       {'MultilayerPerceptron': [], 'RandomForest': [...\n",
       "Name: 0, dtype: object"
      ]
     },
     "execution_count": 9,
     "metadata": {},
     "output_type": "execute_result"
    }
   ],
   "source": [
    "pipe.addFeature('COSINE', nodeProperties = ['embedding'])"
   ]
  },
  {
   "cell_type": "code",
   "execution_count": 10,
   "id": "0f06a432-5414-4b5c-94ad-64e0b530051f",
   "metadata": {
    "execution": {
     "iopub.execute_input": "2023-03-20T05:58:46.723393Z",
     "iopub.status.busy": "2023-03-20T05:58:46.723393Z",
     "iopub.status.idle": "2023-03-20T05:58:46.737911Z",
     "shell.execute_reply": "2023-03-20T05:58:46.736906Z",
     "shell.execute_reply.started": "2023-03-20T05:58:46.723393Z"
    },
    "tags": []
   },
   "outputs": [
    {
     "data": {
      "text/plain": [
       "name                                                            mypipe\n",
       "nodePropertySteps    [{'name': 'gds.fastRP.mutate', 'config': {'ran...\n",
       "featureSteps         [{'name': 'COSINE', 'config': {'nodeProperties...\n",
       "splitConfig          {'negativeSamplingRatio': 1.0, 'testFraction':...\n",
       "autoTuningConfig                                     {'maxTrials': 10}\n",
       "parameterSpace       {'MultilayerPerceptron': [], 'RandomForest': [...\n",
       "Name: 0, dtype: object"
      ]
     },
     "execution_count": 10,
     "metadata": {},
     "output_type": "execute_result"
    }
   ],
   "source": [
    "pipe.configureSplit(trainFraction=0.2, testFraction=0.2, validationFolds=3)"
   ]
  },
  {
   "cell_type": "code",
   "execution_count": 11,
   "id": "f25be4ba-27a6-4819-a7a3-e714165a9245",
   "metadata": {
    "execution": {
     "iopub.execute_input": "2023-03-20T05:58:46.738910Z",
     "iopub.status.busy": "2023-03-20T05:58:46.737911Z",
     "iopub.status.idle": "2023-03-20T05:58:46.769759Z",
     "shell.execute_reply": "2023-03-20T05:58:46.768752Z",
     "shell.execute_reply.started": "2023-03-20T05:58:46.738910Z"
    }
   },
   "outputs": [
    {
     "data": {
      "text/plain": [
       "name                                                            mypipe\n",
       "nodePropertySteps    [{'name': 'gds.fastRP.mutate', 'config': {'ran...\n",
       "featureSteps         [{'name': 'COSINE', 'config': {'nodeProperties...\n",
       "splitConfig          {'negativeSamplingRatio': 1.0, 'testFraction':...\n",
       "autoTuningConfig                                     {'maxTrials': 10}\n",
       "parameterSpace       {'MultilayerPerceptron': [], 'RandomForest': [...\n",
       "Name: 0, dtype: object"
      ]
     },
     "execution_count": 11,
     "metadata": {},
     "output_type": "execute_result"
    }
   ],
   "source": [
    "pipe.addLogisticRegression(tolerance=(0.01, 0.1))\n",
    "pipe.addLogisticRegression(penalty=1.0)"
   ]
  },
  {
   "cell_type": "code",
   "execution_count": 12,
   "id": "683aa2a6-a59e-449b-9df2-c3ddffa0ccd6",
   "metadata": {
    "execution": {
     "iopub.execute_input": "2023-03-20T05:58:46.770760Z",
     "iopub.status.busy": "2023-03-20T05:58:46.770760Z",
     "iopub.status.idle": "2023-03-20T05:58:46.800515Z",
     "shell.execute_reply": "2023-03-20T05:58:46.799516Z",
     "shell.execute_reply.started": "2023-03-20T05:58:46.770760Z"
    },
    "tags": []
   },
   "outputs": [
    {
     "data": {
      "text/plain": [
       "name                                                            mypipe\n",
       "nodePropertySteps    [{'name': 'gds.fastRP.mutate', 'config': {'ran...\n",
       "featureSteps         [{'name': 'COSINE', 'config': {'nodeProperties...\n",
       "splitConfig          {'negativeSamplingRatio': 1.0, 'testFraction':...\n",
       "autoTuningConfig                                     {'maxTrials': 10}\n",
       "parameterSpace       {'MultilayerPerceptron': [{'maxEpochs': 100, '...\n",
       "Name: 0, dtype: object"
      ]
     },
     "execution_count": 12,
     "metadata": {},
     "output_type": "execute_result"
    }
   ],
   "source": [
    "pipe.addMLP(patience = 2)\n",
    "pipe.addMLP(penalty = 1.0)\n",
    "pipe.addMLP(hiddenLayerSizes = [4, 2])"
   ]
  },
  {
   "cell_type": "code",
   "execution_count": 13,
   "id": "d0dacd66-1336-4a84-ae88-48761b4f22d8",
   "metadata": {
    "execution": {
     "iopub.execute_input": "2023-03-20T05:58:46.801515Z",
     "iopub.status.busy": "2023-03-20T05:58:46.801515Z",
     "iopub.status.idle": "2023-03-20T05:58:46.863896Z",
     "shell.execute_reply": "2023-03-20T05:58:46.862981Z",
     "shell.execute_reply.started": "2023-03-20T05:58:46.801515Z"
    },
    "tags": []
   },
   "outputs": [],
   "source": [
    "G, result = gds.graph.project(graphname, \n",
    "  ['Patient','Diag','Drug','IHD'],\n",
    "  {\n",
    "    'IHD_RISK': {\n",
    "      'orientation': 'UNDIRECTED'\n",
    "    },\n",
    "    'DIAGNOSED_WITH': {},\n",
    "    'PRESCRIBED': {}\n",
    "  }\n",
    ");"
   ]
  },
  {
   "cell_type": "code",
   "execution_count": 14,
   "id": "20607e13-38ec-4039-8fb2-1c5c410ca1da",
   "metadata": {
    "execution": {
     "iopub.execute_input": "2023-03-20T05:58:46.866921Z",
     "iopub.status.busy": "2023-03-20T05:58:46.865904Z",
     "iopub.status.idle": "2023-03-20T05:58:47.128555Z",
     "shell.execute_reply": "2023-03-20T05:58:47.127562Z",
     "shell.execute_reply.started": "2023-03-20T05:58:46.866921Z"
    },
    "tags": []
   },
   "outputs": [],
   "source": [
    "model, train_result = pipe.train(\n",
    "    G,\n",
    "    modelName = modelname,\n",
    "    sourceNodeLabel = 'Patient',\n",
    "    targetNodeLabel = \"IHD\",\n",
    "    targetRelationshipType = 'IHD_RISK',\n",
    "    metrics = ['AUCPR', 'OUT_OF_BAG_ERROR'],\n",
    "    randomSeed = 12\n",
    ")"
   ]
  },
  {
   "cell_type": "code",
   "execution_count": 15,
   "id": "9983b7b5-c437-4f1e-af25-cd791db213cd",
   "metadata": {
    "execution": {
     "iopub.execute_input": "2023-03-20T05:58:47.129552Z",
     "iopub.status.busy": "2023-03-20T05:58:47.129552Z",
     "iopub.status.idle": "2023-03-20T05:58:47.190865Z",
     "shell.execute_reply": "2023-03-20T05:58:47.189871Z",
     "shell.execute_reply.started": "2023-03-20T05:58:47.129552Z"
    }
   },
   "outputs": [],
   "source": [
    "predictions = model.predict_stream(G, concurrency=2, topN= 20, threshold= 0.1)"
   ]
  },
  {
   "cell_type": "code",
   "execution_count": 16,
   "id": "2e2deb7a-5679-423d-8d44-50a690d63960",
   "metadata": {
    "execution": {
     "iopub.execute_input": "2023-03-20T05:58:47.191865Z",
     "iopub.status.busy": "2023-03-20T05:58:47.191865Z",
     "iopub.status.idle": "2023-03-20T05:58:47.221450Z",
     "shell.execute_reply": "2023-03-20T05:58:47.221450Z",
     "shell.execute_reply.started": "2023-03-20T05:58:47.191865Z"
    }
   },
   "outputs": [
    {
     "data": {
      "text/html": [
       "<div>\n",
       "<style scoped>\n",
       "    .dataframe tbody tr th:only-of-type {\n",
       "        vertical-align: middle;\n",
       "    }\n",
       "\n",
       "    .dataframe tbody tr th {\n",
       "        vertical-align: top;\n",
       "    }\n",
       "\n",
       "    .dataframe thead th {\n",
       "        text-align: right;\n",
       "    }\n",
       "</style>\n",
       "<table border=\"1\" class=\"dataframe\">\n",
       "  <thead>\n",
       "    <tr style=\"text-align: right;\">\n",
       "      <th></th>\n",
       "      <th>node1</th>\n",
       "      <th>node2</th>\n",
       "      <th>probability</th>\n",
       "    </tr>\n",
       "  </thead>\n",
       "  <tbody>\n",
       "    <tr>\n",
       "      <th>0</th>\n",
       "      <td>1278</td>\n",
       "      <td>2076</td>\n",
       "      <td>0.5005</td>\n",
       "    </tr>\n",
       "    <tr>\n",
       "      <th>1</th>\n",
       "      <td>1280</td>\n",
       "      <td>2076</td>\n",
       "      <td>0.5005</td>\n",
       "    </tr>\n",
       "    <tr>\n",
       "      <th>2</th>\n",
       "      <td>1282</td>\n",
       "      <td>2076</td>\n",
       "      <td>0.5005</td>\n",
       "    </tr>\n",
       "    <tr>\n",
       "      <th>3</th>\n",
       "      <td>1284</td>\n",
       "      <td>2076</td>\n",
       "      <td>0.5005</td>\n",
       "    </tr>\n",
       "    <tr>\n",
       "      <th>4</th>\n",
       "      <td>1286</td>\n",
       "      <td>2076</td>\n",
       "      <td>0.5005</td>\n",
       "    </tr>\n",
       "    <tr>\n",
       "      <th>5</th>\n",
       "      <td>1288</td>\n",
       "      <td>2076</td>\n",
       "      <td>0.5005</td>\n",
       "    </tr>\n",
       "    <tr>\n",
       "      <th>6</th>\n",
       "      <td>1290</td>\n",
       "      <td>2076</td>\n",
       "      <td>0.5005</td>\n",
       "    </tr>\n",
       "    <tr>\n",
       "      <th>7</th>\n",
       "      <td>1292</td>\n",
       "      <td>2076</td>\n",
       "      <td>0.5005</td>\n",
       "    </tr>\n",
       "    <tr>\n",
       "      <th>8</th>\n",
       "      <td>1294</td>\n",
       "      <td>2076</td>\n",
       "      <td>0.5005</td>\n",
       "    </tr>\n",
       "    <tr>\n",
       "      <th>9</th>\n",
       "      <td>1295</td>\n",
       "      <td>2076</td>\n",
       "      <td>0.5005</td>\n",
       "    </tr>\n",
       "    <tr>\n",
       "      <th>10</th>\n",
       "      <td>1293</td>\n",
       "      <td>2076</td>\n",
       "      <td>0.5005</td>\n",
       "    </tr>\n",
       "    <tr>\n",
       "      <th>11</th>\n",
       "      <td>1291</td>\n",
       "      <td>2076</td>\n",
       "      <td>0.5005</td>\n",
       "    </tr>\n",
       "    <tr>\n",
       "      <th>12</th>\n",
       "      <td>1289</td>\n",
       "      <td>2076</td>\n",
       "      <td>0.5005</td>\n",
       "    </tr>\n",
       "    <tr>\n",
       "      <th>13</th>\n",
       "      <td>1287</td>\n",
       "      <td>2076</td>\n",
       "      <td>0.5005</td>\n",
       "    </tr>\n",
       "    <tr>\n",
       "      <th>14</th>\n",
       "      <td>1285</td>\n",
       "      <td>2076</td>\n",
       "      <td>0.5005</td>\n",
       "    </tr>\n",
       "    <tr>\n",
       "      <th>15</th>\n",
       "      <td>1283</td>\n",
       "      <td>2076</td>\n",
       "      <td>0.5005</td>\n",
       "    </tr>\n",
       "    <tr>\n",
       "      <th>16</th>\n",
       "      <td>1281</td>\n",
       "      <td>2076</td>\n",
       "      <td>0.5005</td>\n",
       "    </tr>\n",
       "    <tr>\n",
       "      <th>17</th>\n",
       "      <td>1279</td>\n",
       "      <td>2076</td>\n",
       "      <td>0.5005</td>\n",
       "    </tr>\n",
       "    <tr>\n",
       "      <th>18</th>\n",
       "      <td>1277</td>\n",
       "      <td>2076</td>\n",
       "      <td>0.5005</td>\n",
       "    </tr>\n",
       "    <tr>\n",
       "      <th>19</th>\n",
       "      <td>1276</td>\n",
       "      <td>2076</td>\n",
       "      <td>0.5005</td>\n",
       "    </tr>\n",
       "  </tbody>\n",
       "</table>\n",
       "</div>"
      ],
      "text/plain": [
       "    node1  node2  probability\n",
       "0    1278   2076       0.5005\n",
       "1    1280   2076       0.5005\n",
       "2    1282   2076       0.5005\n",
       "3    1284   2076       0.5005\n",
       "4    1286   2076       0.5005\n",
       "5    1288   2076       0.5005\n",
       "6    1290   2076       0.5005\n",
       "7    1292   2076       0.5005\n",
       "8    1294   2076       0.5005\n",
       "9    1295   2076       0.5005\n",
       "10   1293   2076       0.5005\n",
       "11   1291   2076       0.5005\n",
       "12   1289   2076       0.5005\n",
       "13   1287   2076       0.5005\n",
       "14   1285   2076       0.5005\n",
       "15   1283   2076       0.5005\n",
       "16   1281   2076       0.5005\n",
       "17   1279   2076       0.5005\n",
       "18   1277   2076       0.5005\n",
       "19   1276   2076       0.5005"
      ]
     },
     "execution_count": 16,
     "metadata": {},
     "output_type": "execute_result"
    }
   ],
   "source": [
    "predictions"
   ]
  },
  {
   "cell_type": "code",
   "execution_count": 17,
   "id": "c0529a63-4781-4666-9b37-928ee98fa245",
   "metadata": {
    "execution": {
     "iopub.execute_input": "2023-03-20T05:58:47.223969Z",
     "iopub.status.busy": "2023-03-20T05:58:47.222959Z",
     "iopub.status.idle": "2023-03-20T05:58:47.239019Z",
     "shell.execute_reply": "2023-03-20T05:58:47.238008Z",
     "shell.execute_reply.started": "2023-03-20T05:58:47.222959Z"
    },
    "tags": []
   },
   "outputs": [],
   "source": [
    "gds.close()"
   ]
  }
 ],
 "metadata": {
  "kernelspec": {
   "display_name": "Python 3 (ipykernel)",
   "language": "python",
   "name": "python3"
  },
  "language_info": {
   "codemirror_mode": {
    "name": "ipython",
    "version": 3
   },
   "file_extension": ".py",
   "mimetype": "text/x-python",
   "name": "python",
   "nbconvert_exporter": "python",
   "pygments_lexer": "ipython3",
   "version": "3.10.9"
  }
 },
 "nbformat": 4,
 "nbformat_minor": 5
}
