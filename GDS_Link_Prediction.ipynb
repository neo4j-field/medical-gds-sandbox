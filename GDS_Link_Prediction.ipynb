{
 "cells": [
  {
   "cell_type": "code",
   "execution_count": 1,
   "id": "606f72eb-2cae-4302-ac9d-eb097a6a4f75",
   "metadata": {
    "execution": {
     "iopub.execute_input": "2023-03-20T07:18:16.262161Z",
     "iopub.status.busy": "2023-03-20T07:18:16.262161Z",
     "iopub.status.idle": "2023-03-20T07:18:16.899206Z",
     "shell.execute_reply": "2023-03-20T07:18:16.898318Z",
     "shell.execute_reply.started": "2023-03-20T07:18:16.262161Z"
    },
    "tags": []
   },
   "outputs": [],
   "source": [
    "from graphdatascience import GraphDataScience"
   ]
  },
  {
   "cell_type": "code",
   "execution_count": 2,
   "id": "beabcbc6-a988-4b7c-8a0f-b9bb05c4ad29",
   "metadata": {
    "execution": {
     "iopub.execute_input": "2023-03-20T07:18:16.900206Z",
     "iopub.status.busy": "2023-03-20T07:18:16.900206Z",
     "iopub.status.idle": "2023-03-20T07:18:16.915208Z",
     "shell.execute_reply": "2023-03-20T07:18:16.914204Z",
     "shell.execute_reply.started": "2023-03-20T07:18:16.900206Z"
    },
    "tags": []
   },
   "outputs": [],
   "source": [
    "URI = \"bolt://localhost:7687\"\n",
    "AUTH = (\"neo4j\", \"neo4jneo4j\")\n",
    "DB = 'medical'"
   ]
  },
  {
   "cell_type": "code",
   "execution_count": null,
   "id": "2b0495b1-af2b-4c07-af8d-d9364b7a2a12",
   "metadata": {
    "execution": {
     "iopub.execute_input": "2023-03-20T07:18:16.916205Z",
     "iopub.status.busy": "2023-03-20T07:18:16.916205Z"
    },
    "tags": []
   },
   "outputs": [],
   "source": [
    "gds = GraphDataScience(URI, AUTH, database=DB)\n",
    "print(gds.version())"
   ]
  },
  {
   "cell_type": "code",
   "execution_count": null,
   "id": "cb6f57c3-c223-443b-8ca0-e421486f7368",
   "metadata": {},
   "outputs": [],
   "source": [
    "graphname = \"mygraph\"\n",
    "pipelinename = \"mypipe\"\n",
    "modelname = \"mymodel\""
   ]
  },
  {
   "cell_type": "code",
   "execution_count": null,
   "id": "b86c681b-f31c-4927-94af-ac76b2582e07",
   "metadata": {},
   "outputs": [],
   "source": [
    "RANDOM_SEED = 42"
   ]
  },
  {
   "cell_type": "code",
   "execution_count": null,
   "id": "402345ae-ae16-437f-867e-7ced3c622b1b",
   "metadata": {},
   "outputs": [],
   "source": [
    "if gds.graph.exists(graphname).exists:\n",
    "    gds.graph.drop(gds.graph.get(graphname))\n",
    "if gds.beta.pipeline.exists(pipelinename).exists:\n",
    "    gds.pipeline.get(pipelinename).drop()\n",
    "if gds.beta.model.exists(modelname).exists:\n",
    "    gds.model.get(modelname).drop()"
   ]
  },
  {
   "cell_type": "code",
   "execution_count": null,
   "id": "8781577f-e61b-40b7-af0b-b0f601283b41",
   "metadata": {},
   "outputs": [],
   "source": [
    "G, result = gds.graph.project(graphname, \n",
    "  ['Patient','Diag','Drug','IHD'],\n",
    "  {\n",
    "    'IHD_RISK': {\n",
    "      'orientation': 'UNDIRECTED'\n",
    "    },\n",
    "    'DIAGNOSED_WITH': {},\n",
    "    'PRESCRIBED': {}\n",
    "  }\n",
    ");"
   ]
  },
  {
   "cell_type": "code",
   "execution_count": null,
   "id": "8890b841-c2e5-4205-86ea-1b4d4d073106",
   "metadata": {
    "tags": []
   },
   "outputs": [],
   "source": [
    "pipe, _ = gds.beta.pipeline.linkPrediction.create(pipelinename)"
   ]
  },
  {
   "cell_type": "code",
   "execution_count": null,
   "id": "1c641e60-5644-4843-a5f1-4179f2ae0090",
   "metadata": {
    "tags": []
   },
   "outputs": [],
   "source": [
    "pipe.addNodeProperty(\"beta.hashgnn\",\n",
    "    mutateProperty=\"embedding\",\n",
    "    iterations=4,\n",
    "    heterogeneous=True,\n",
    "    embeddingDensity=512,\n",
    "    neighborInfluence=0.7,\n",
    "    randomSeed=RANDOM_SEED,\n",
    "    generateFeatures={'dimension': 1,  'densityLevel': 1},\n",
    "    contextNodeLabels=G.node_labels(),\n",
    ")"
   ]
  },
  {
   "cell_type": "code",
   "execution_count": null,
   "id": "7b771406-6059-4508-8690-4a5a3545d708",
   "metadata": {
    "tags": []
   },
   "outputs": [],
   "source": [
    "pipe.addFeature('COSINE', nodeProperties = ['embedding'])"
   ]
  },
  {
   "cell_type": "code",
   "execution_count": null,
   "id": "0f06a432-5414-4b5c-94ad-64e0b530051f",
   "metadata": {
    "tags": []
   },
   "outputs": [],
   "source": [
    "pipe.configureSplit(trainFraction=0.5, testFraction=0.5, validationFolds=4)"
   ]
  },
  {
   "cell_type": "code",
   "execution_count": null,
   "id": "f25be4ba-27a6-4819-a7a3-e714165a9245",
   "metadata": {
    "tags": []
   },
   "outputs": [],
   "source": [
    "pipe.addLogisticRegression(tolerance=(0.1, 1.0), penalty=1.0, patience=5)"
   ]
  },
  {
   "cell_type": "code",
   "execution_count": null,
   "id": "683aa2a6-a59e-449b-9df2-c3ddffa0ccd6",
   "metadata": {
    "tags": []
   },
   "outputs": [],
   "source": [
    "pipe.addMLP(patience = 2, penalty = 1.0, hiddenLayerSizes = [4, 2])"
   ]
  },
  {
   "cell_type": "code",
   "execution_count": null,
   "id": "4276160c-8a19-473a-b5b9-5ca6fa21a14d",
   "metadata": {
    "tags": []
   },
   "outputs": [],
   "source": [
    "pipe.configureAutoTuning(maxTrials = 4)"
   ]
  },
  {
   "cell_type": "code",
   "execution_count": null,
   "id": "20607e13-38ec-4039-8fb2-1c5c410ca1da",
   "metadata": {
    "tags": []
   },
   "outputs": [],
   "source": [
    "model, train_result = pipe.train(\n",
    "    G,\n",
    "    modelName = modelname,\n",
    "    sourceNodeLabel = 'Patient',\n",
    "    targetNodeLabel = \"IHD\",\n",
    "    targetRelationshipType = 'IHD_RISK',\n",
    "    metrics = ['AUCPR', 'OUT_OF_BAG_ERROR'],\n",
    "    randomSeed = RANDOM_SEED\n",
    ")"
   ]
  },
  {
   "cell_type": "code",
   "execution_count": null,
   "id": "9983b7b5-c437-4f1e-af25-cd791db213cd",
   "metadata": {
    "tags": []
   },
   "outputs": [],
   "source": [
    "predictions = model.predict_stream(G, concurrency=2, topN= 20, threshold= 0.1)"
   ]
  },
  {
   "cell_type": "code",
   "execution_count": null,
   "id": "2e2deb7a-5679-423d-8d44-50a690d63960",
   "metadata": {
    "tags": []
   },
   "outputs": [],
   "source": [
    "predictions"
   ]
  },
  {
   "cell_type": "code",
   "execution_count": null,
   "id": "7f03f06d-ca9c-499d-9f27-810f12c15624",
   "metadata": {},
   "outputs": [],
   "source": [
    "pipe.drop()\n",
    "model.drop()\n",
    "G.drop()"
   ]
  },
  {
   "cell_type": "code",
   "execution_count": null,
   "id": "c0529a63-4781-4666-9b37-928ee98fa245",
   "metadata": {
    "tags": []
   },
   "outputs": [],
   "source": [
    "gds.close()"
   ]
  }
 ],
 "metadata": {
  "kernelspec": {
   "display_name": "Python 3 (ipykernel)",
   "language": "python",
   "name": "python3"
  },
  "language_info": {
   "codemirror_mode": {
    "name": "ipython",
    "version": 3
   },
   "file_extension": ".py",
   "mimetype": "text/x-python",
   "name": "python",
   "nbconvert_exporter": "python",
   "pygments_lexer": "ipython3",
   "version": "3.10.9"
  }
 },
 "nbformat": 4,
 "nbformat_minor": 5
}
