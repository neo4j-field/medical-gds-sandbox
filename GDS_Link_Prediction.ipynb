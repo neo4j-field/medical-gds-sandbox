{
 "cells": [
  {
   "cell_type": "code",
   "execution_count": 1,
   "id": "606f72eb-2cae-4302-ac9d-eb097a6a4f75",
   "metadata": {
    "execution": {
     "iopub.execute_input": "2023-03-20T07:18:16.262161Z",
     "iopub.status.busy": "2023-03-20T07:18:16.262161Z",
     "iopub.status.idle": "2023-03-20T07:18:16.899206Z",
     "shell.execute_reply": "2023-03-20T07:18:16.898318Z",
     "shell.execute_reply.started": "2023-03-20T07:18:16.262161Z"
    },
    "tags": []
   },
   "outputs": [],
   "source": [
    "from graphdatascience import GraphDataScience"
   ]
  },
  {
   "cell_type": "code",
   "execution_count": 2,
   "id": "beabcbc6-a988-4b7c-8a0f-b9bb05c4ad29",
   "metadata": {
    "execution": {
     "iopub.execute_input": "2023-03-20T07:18:16.900206Z",
     "iopub.status.busy": "2023-03-20T07:18:16.900206Z",
     "iopub.status.idle": "2023-03-20T07:18:16.915208Z",
     "shell.execute_reply": "2023-03-20T07:18:16.914204Z",
     "shell.execute_reply.started": "2023-03-20T07:18:16.900206Z"
    },
    "tags": []
   },
   "outputs": [],
   "source": [
    "URI = \"bolt://localhost:7687\"\n",
    "AUTH = (\"neo4j\", \"neo4jneo4j\")\n",
    "DB = 'medical'"
   ]
  },
  {
   "cell_type": "code",
   "execution_count": 3,
   "id": "2b0495b1-af2b-4c07-af8d-d9364b7a2a12",
   "metadata": {
    "execution": {
     "iopub.execute_input": "2023-03-20T07:18:16.916205Z",
     "iopub.status.busy": "2023-03-20T07:18:16.916205Z",
     "iopub.status.idle": "2023-03-20T07:18:21.109098Z",
     "shell.execute_reply": "2023-03-20T07:18:21.107105Z",
     "shell.execute_reply.started": "2023-03-20T07:18:16.916205Z"
    },
    "tags": []
   },
   "outputs": [
    {
     "name": "stdout",
     "output_type": "stream",
     "text": [
      "2.3.1\n"
     ]
    }
   ],
   "source": [
    "gds = GraphDataScience(URI, AUTH, database=DB)\n",
    "print(gds.version())"
   ]
  },
  {
   "cell_type": "code",
   "execution_count": 4,
   "id": "cb6f57c3-c223-443b-8ca0-e421486f7368",
   "metadata": {
    "execution": {
     "iopub.execute_input": "2023-03-20T07:18:21.111067Z",
     "iopub.status.busy": "2023-03-20T07:18:21.110054Z",
     "iopub.status.idle": "2023-03-20T07:18:21.124092Z",
     "shell.execute_reply": "2023-03-20T07:18:21.123092Z",
     "shell.execute_reply.started": "2023-03-20T07:18:21.111067Z"
    }
   },
   "outputs": [],
   "source": [
    "graphname = \"mygraph\"\n",
    "pipelinename = \"mypipe\"\n",
    "modelname = \"mymodel\""
   ]
  },
  {
   "cell_type": "code",
   "execution_count": 5,
   "id": "b86c681b-f31c-4927-94af-ac76b2582e07",
   "metadata": {
    "execution": {
     "iopub.execute_input": "2023-03-20T07:18:21.125090Z",
     "iopub.status.busy": "2023-03-20T07:18:21.125090Z",
     "iopub.status.idle": "2023-03-20T07:18:21.140091Z",
     "shell.execute_reply": "2023-03-20T07:18:21.139091Z",
     "shell.execute_reply.started": "2023-03-20T07:18:21.125090Z"
    }
   },
   "outputs": [],
   "source": [
    "RANDOM_SEED = 42"
   ]
  },
  {
   "cell_type": "code",
   "execution_count": 6,
   "id": "402345ae-ae16-437f-867e-7ced3c622b1b",
   "metadata": {
    "execution": {
     "iopub.execute_input": "2023-03-20T07:18:21.141091Z",
     "iopub.status.busy": "2023-03-20T07:18:21.141091Z",
     "iopub.status.idle": "2023-03-20T07:18:21.202259Z",
     "shell.execute_reply": "2023-03-20T07:18:21.201168Z",
     "shell.execute_reply.started": "2023-03-20T07:18:21.141091Z"
    }
   },
   "outputs": [],
   "source": [
    "if gds.graph.exists(graphname).exists:\n",
    "    gds.graph.drop(gds.graph.get(graphname))\n",
    "if gds.beta.pipeline.exists(pipelinename).exists:\n",
    "    gds.pipeline.get(pipelinename).drop()\n",
    "if gds.beta.model.exists(modelname).exists:\n",
    "    gds.model.get(modelname).drop()"
   ]
  },
  {
   "cell_type": "code",
   "execution_count": 7,
   "id": "8781577f-e61b-40b7-af0b-b0f601283b41",
   "metadata": {
    "execution": {
     "iopub.execute_input": "2023-03-20T07:18:21.205169Z",
     "iopub.status.busy": "2023-03-20T07:18:21.204221Z",
     "iopub.status.idle": "2023-03-20T07:18:21.234205Z",
     "shell.execute_reply": "2023-03-20T07:18:21.233223Z",
     "shell.execute_reply.started": "2023-03-20T07:18:21.205169Z"
    }
   },
   "outputs": [],
   "source": [
    "G, result = gds.graph.project(graphname, \n",
    "  ['Patient','Diag','Drug','IHD'],\n",
    "  {\n",
    "    'IHD_RISK': {\n",
    "      'orientation': 'UNDIRECTED'\n",
    "    },\n",
    "    'DIAGNOSED_WITH': {},\n",
    "    'PRESCRIBED': {}\n",
    "  }\n",
    ");"
   ]
  },
  {
   "cell_type": "code",
   "execution_count": 8,
   "id": "8890b841-c2e5-4205-86ea-1b4d4d073106",
   "metadata": {
    "execution": {
     "iopub.execute_input": "2023-03-20T07:18:21.235224Z",
     "iopub.status.busy": "2023-03-20T07:18:21.235224Z",
     "iopub.status.idle": "2023-03-20T07:18:21.250212Z",
     "shell.execute_reply": "2023-03-20T07:18:21.249213Z",
     "shell.execute_reply.started": "2023-03-20T07:18:21.235224Z"
    },
    "tags": []
   },
   "outputs": [],
   "source": [
    "pipe, _ = gds.beta.pipeline.linkPrediction.create(pipelinename)"
   ]
  },
  {
   "cell_type": "code",
   "execution_count": 9,
   "id": "1c641e60-5644-4843-a5f1-4179f2ae0090",
   "metadata": {
    "execution": {
     "iopub.execute_input": "2023-03-20T07:18:21.251213Z",
     "iopub.status.busy": "2023-03-20T07:18:21.251213Z",
     "iopub.status.idle": "2023-03-20T07:18:21.281730Z",
     "shell.execute_reply": "2023-03-20T07:18:21.280748Z",
     "shell.execute_reply.started": "2023-03-20T07:18:21.251213Z"
    },
    "tags": []
   },
   "outputs": [
    {
     "data": {
      "text/plain": [
       "name                                                            mypipe\n",
       "nodePropertySteps    [{'name': 'gds.beta.hashgnn.mutate', 'config':...\n",
       "featureSteps                                                        []\n",
       "splitConfig          {'negativeSamplingRatio': 1.0, 'testFraction':...\n",
       "autoTuningConfig                                     {'maxTrials': 10}\n",
       "parameterSpace       {'MultilayerPerceptron': [], 'RandomForest': [...\n",
       "Name: 0, dtype: object"
      ]
     },
     "execution_count": 9,
     "metadata": {},
     "output_type": "execute_result"
    }
   ],
   "source": [
    "pipe.addNodeProperty(\"beta.hashgnn\",\n",
    "    mutateProperty=\"embedding\",\n",
    "    iterations=4,\n",
    "    heterogeneous=True,\n",
    "    embeddingDensity=512,\n",
    "    neighborInfluence=0.7,\n",
    "    randomSeed=RANDOM_SEED,\n",
    "    generateFeatures={'dimension': 1,  'densityLevel': 1},\n",
    "    contextNodeLabels=G.node_labels(),\n",
    ")"
   ]
  },
  {
   "cell_type": "code",
   "execution_count": 10,
   "id": "7b771406-6059-4508-8690-4a5a3545d708",
   "metadata": {
    "execution": {
     "iopub.execute_input": "2023-03-20T07:18:21.282752Z",
     "iopub.status.busy": "2023-03-20T07:18:21.281730Z",
     "iopub.status.idle": "2023-03-20T07:18:21.297729Z",
     "shell.execute_reply": "2023-03-20T07:18:21.296728Z",
     "shell.execute_reply.started": "2023-03-20T07:18:21.282752Z"
    },
    "tags": []
   },
   "outputs": [
    {
     "data": {
      "text/plain": [
       "name                                                            mypipe\n",
       "nodePropertySteps    [{'name': 'gds.beta.hashgnn.mutate', 'config':...\n",
       "featureSteps         [{'name': 'COSINE', 'config': {'nodeProperties...\n",
       "splitConfig          {'negativeSamplingRatio': 1.0, 'testFraction':...\n",
       "autoTuningConfig                                     {'maxTrials': 10}\n",
       "parameterSpace       {'MultilayerPerceptron': [], 'RandomForest': [...\n",
       "Name: 0, dtype: object"
      ]
     },
     "execution_count": 10,
     "metadata": {},
     "output_type": "execute_result"
    }
   ],
   "source": [
    "pipe.addFeature('COSINE', nodeProperties = ['embedding'])"
   ]
  },
  {
   "cell_type": "code",
   "execution_count": 11,
   "id": "0f06a432-5414-4b5c-94ad-64e0b530051f",
   "metadata": {
    "execution": {
     "iopub.execute_input": "2023-03-20T07:18:21.298728Z",
     "iopub.status.busy": "2023-03-20T07:18:21.298728Z",
     "iopub.status.idle": "2023-03-20T07:18:21.313729Z",
     "shell.execute_reply": "2023-03-20T07:18:21.312730Z",
     "shell.execute_reply.started": "2023-03-20T07:18:21.298728Z"
    },
    "tags": []
   },
   "outputs": [
    {
     "data": {
      "text/plain": [
       "name                                                            mypipe\n",
       "nodePropertySteps    [{'name': 'gds.beta.hashgnn.mutate', 'config':...\n",
       "featureSteps         [{'name': 'COSINE', 'config': {'nodeProperties...\n",
       "splitConfig          {'negativeSamplingRatio': 1.0, 'testFraction':...\n",
       "autoTuningConfig                                     {'maxTrials': 10}\n",
       "parameterSpace       {'MultilayerPerceptron': [], 'RandomForest': [...\n",
       "Name: 0, dtype: object"
      ]
     },
     "execution_count": 11,
     "metadata": {},
     "output_type": "execute_result"
    }
   ],
   "source": [
    "pipe.configureSplit(trainFraction=0.5, testFraction=0.5, validationFolds=4)"
   ]
  },
  {
   "cell_type": "code",
   "execution_count": 12,
   "id": "f25be4ba-27a6-4819-a7a3-e714165a9245",
   "metadata": {
    "execution": {
     "iopub.execute_input": "2023-03-20T07:18:21.314729Z",
     "iopub.status.busy": "2023-03-20T07:18:21.314729Z",
     "iopub.status.idle": "2023-03-20T07:18:21.329730Z",
     "shell.execute_reply": "2023-03-20T07:18:21.328730Z",
     "shell.execute_reply.started": "2023-03-20T07:18:21.314729Z"
    },
    "tags": []
   },
   "outputs": [
    {
     "data": {
      "text/plain": [
       "name                                                            mypipe\n",
       "nodePropertySteps    [{'name': 'gds.beta.hashgnn.mutate', 'config':...\n",
       "featureSteps         [{'name': 'COSINE', 'config': {'nodeProperties...\n",
       "splitConfig          {'negativeSamplingRatio': 1.0, 'testFraction':...\n",
       "autoTuningConfig                                     {'maxTrials': 10}\n",
       "parameterSpace       {'MultilayerPerceptron': [], 'RandomForest': [...\n",
       "Name: 0, dtype: object"
      ]
     },
     "execution_count": 12,
     "metadata": {},
     "output_type": "execute_result"
    }
   ],
   "source": [
    "pipe.addLogisticRegression(tolerance=(0.1, 1.0), penalty=1.0, patience=5)"
   ]
  },
  {
   "cell_type": "code",
   "execution_count": 13,
   "id": "683aa2a6-a59e-449b-9df2-c3ddffa0ccd6",
   "metadata": {
    "execution": {
     "iopub.execute_input": "2023-03-20T07:18:21.330728Z",
     "iopub.status.busy": "2023-03-20T07:18:21.330728Z",
     "iopub.status.idle": "2023-03-20T07:18:21.344729Z",
     "shell.execute_reply": "2023-03-20T07:18:21.344729Z",
     "shell.execute_reply.started": "2023-03-20T07:18:21.330728Z"
    },
    "tags": []
   },
   "outputs": [
    {
     "data": {
      "text/plain": [
       "name                                                            mypipe\n",
       "nodePropertySteps    [{'name': 'gds.beta.hashgnn.mutate', 'config':...\n",
       "featureSteps         [{'name': 'COSINE', 'config': {'nodeProperties...\n",
       "splitConfig          {'negativeSamplingRatio': 1.0, 'testFraction':...\n",
       "autoTuningConfig                                     {'maxTrials': 10}\n",
       "parameterSpace       {'MultilayerPerceptron': [{'maxEpochs': 100, '...\n",
       "Name: 0, dtype: object"
      ]
     },
     "execution_count": 13,
     "metadata": {},
     "output_type": "execute_result"
    }
   ],
   "source": [
    "pipe.addMLP(patience = 2, penalty = 1.0, hiddenLayerSizes = [4, 2])"
   ]
  },
  {
   "cell_type": "code",
   "execution_count": 14,
   "id": "4276160c-8a19-473a-b5b9-5ca6fa21a14d",
   "metadata": {
    "execution": {
     "iopub.execute_input": "2023-03-20T07:18:21.345729Z",
     "iopub.status.busy": "2023-03-20T07:18:21.345729Z",
     "iopub.status.idle": "2023-03-20T07:18:21.361241Z",
     "shell.execute_reply": "2023-03-20T07:18:21.361241Z",
     "shell.execute_reply.started": "2023-03-20T07:18:21.345729Z"
    },
    "tags": []
   },
   "outputs": [
    {
     "data": {
      "text/plain": [
       "name                                                            mypipe\n",
       "nodePropertySteps    [{'name': 'gds.beta.hashgnn.mutate', 'config':...\n",
       "featureSteps         [{'name': 'COSINE', 'config': {'nodeProperties...\n",
       "splitConfig          {'negativeSamplingRatio': 1.0, 'testFraction':...\n",
       "autoTuningConfig                                      {'maxTrials': 4}\n",
       "parameterSpace       {'MultilayerPerceptron': [{'maxEpochs': 100, '...\n",
       "Name: 0, dtype: object"
      ]
     },
     "execution_count": 14,
     "metadata": {},
     "output_type": "execute_result"
    }
   ],
   "source": [
    "pipe.configureAutoTuning(maxTrials = 4)"
   ]
  },
  {
   "cell_type": "code",
   "execution_count": 15,
   "id": "20607e13-38ec-4039-8fb2-1c5c410ca1da",
   "metadata": {
    "execution": {
     "iopub.execute_input": "2023-03-20T07:18:21.363247Z",
     "iopub.status.busy": "2023-03-20T07:18:21.363247Z",
     "iopub.status.idle": "2023-03-20T07:18:23.929871Z",
     "shell.execute_reply": "2023-03-20T07:18:23.927838Z",
     "shell.execute_reply.started": "2023-03-20T07:18:21.363247Z"
    },
    "tags": []
   },
   "outputs": [],
   "source": [
    "model, train_result = pipe.train(\n",
    "    G,\n",
    "    modelName = modelname,\n",
    "    sourceNodeLabel = 'Patient',\n",
    "    targetNodeLabel = \"IHD\",\n",
    "    targetRelationshipType = 'IHD_RISK',\n",
    "    metrics = ['AUCPR', 'OUT_OF_BAG_ERROR'],\n",
    "    randomSeed = RANDOM_SEED\n",
    ")"
   ]
  },
  {
   "cell_type": "code",
   "execution_count": 16,
   "id": "9983b7b5-c437-4f1e-af25-cd791db213cd",
   "metadata": {
    "execution": {
     "iopub.execute_input": "2023-03-20T07:18:23.931846Z",
     "iopub.status.busy": "2023-03-20T07:18:23.930834Z",
     "iopub.status.idle": "2023-03-20T07:18:24.132372Z",
     "shell.execute_reply": "2023-03-20T07:18:24.132372Z",
     "shell.execute_reply.started": "2023-03-20T07:18:23.931846Z"
    },
    "tags": []
   },
   "outputs": [],
   "source": [
    "predictions = model.predict_stream(G, concurrency=2, topN= 20, threshold= 0.1)"
   ]
  },
  {
   "cell_type": "code",
   "execution_count": 17,
   "id": "2e2deb7a-5679-423d-8d44-50a690d63960",
   "metadata": {
    "execution": {
     "iopub.execute_input": "2023-03-20T07:18:24.133380Z",
     "iopub.status.busy": "2023-03-20T07:18:24.133380Z",
     "iopub.status.idle": "2023-03-20T07:18:24.149359Z",
     "shell.execute_reply": "2023-03-20T07:18:24.148379Z",
     "shell.execute_reply.started": "2023-03-20T07:18:24.133380Z"
    },
    "tags": []
   },
   "outputs": [
    {
     "data": {
      "text/html": [
       "<div>\n",
       "<style scoped>\n",
       "    .dataframe tbody tr th:only-of-type {\n",
       "        vertical-align: middle;\n",
       "    }\n",
       "\n",
       "    .dataframe tbody tr th {\n",
       "        vertical-align: top;\n",
       "    }\n",
       "\n",
       "    .dataframe thead th {\n",
       "        text-align: right;\n",
       "    }\n",
       "</style>\n",
       "<table border=\"1\" class=\"dataframe\">\n",
       "  <thead>\n",
       "    <tr style=\"text-align: right;\">\n",
       "      <th></th>\n",
       "      <th>node1</th>\n",
       "      <th>node2</th>\n",
       "      <th>probability</th>\n",
       "    </tr>\n",
       "  </thead>\n",
       "  <tbody>\n",
       "    <tr>\n",
       "      <th>0</th>\n",
       "      <td>1278</td>\n",
       "      <td>2076</td>\n",
       "      <td>0.246868</td>\n",
       "    </tr>\n",
       "    <tr>\n",
       "      <th>1</th>\n",
       "      <td>1280</td>\n",
       "      <td>2076</td>\n",
       "      <td>0.246868</td>\n",
       "    </tr>\n",
       "    <tr>\n",
       "      <th>2</th>\n",
       "      <td>1282</td>\n",
       "      <td>2076</td>\n",
       "      <td>0.246868</td>\n",
       "    </tr>\n",
       "    <tr>\n",
       "      <th>3</th>\n",
       "      <td>1284</td>\n",
       "      <td>2076</td>\n",
       "      <td>0.246868</td>\n",
       "    </tr>\n",
       "    <tr>\n",
       "      <th>4</th>\n",
       "      <td>1286</td>\n",
       "      <td>2076</td>\n",
       "      <td>0.246868</td>\n",
       "    </tr>\n",
       "    <tr>\n",
       "      <th>5</th>\n",
       "      <td>1288</td>\n",
       "      <td>2076</td>\n",
       "      <td>0.246868</td>\n",
       "    </tr>\n",
       "    <tr>\n",
       "      <th>6</th>\n",
       "      <td>1290</td>\n",
       "      <td>2076</td>\n",
       "      <td>0.246868</td>\n",
       "    </tr>\n",
       "    <tr>\n",
       "      <th>7</th>\n",
       "      <td>1292</td>\n",
       "      <td>2076</td>\n",
       "      <td>0.246868</td>\n",
       "    </tr>\n",
       "    <tr>\n",
       "      <th>8</th>\n",
       "      <td>1294</td>\n",
       "      <td>2076</td>\n",
       "      <td>0.246868</td>\n",
       "    </tr>\n",
       "    <tr>\n",
       "      <th>9</th>\n",
       "      <td>1295</td>\n",
       "      <td>2076</td>\n",
       "      <td>0.246868</td>\n",
       "    </tr>\n",
       "    <tr>\n",
       "      <th>10</th>\n",
       "      <td>1293</td>\n",
       "      <td>2076</td>\n",
       "      <td>0.246868</td>\n",
       "    </tr>\n",
       "    <tr>\n",
       "      <th>11</th>\n",
       "      <td>1291</td>\n",
       "      <td>2076</td>\n",
       "      <td>0.246868</td>\n",
       "    </tr>\n",
       "    <tr>\n",
       "      <th>12</th>\n",
       "      <td>1289</td>\n",
       "      <td>2076</td>\n",
       "      <td>0.246868</td>\n",
       "    </tr>\n",
       "    <tr>\n",
       "      <th>13</th>\n",
       "      <td>1287</td>\n",
       "      <td>2076</td>\n",
       "      <td>0.246868</td>\n",
       "    </tr>\n",
       "    <tr>\n",
       "      <th>14</th>\n",
       "      <td>1285</td>\n",
       "      <td>2076</td>\n",
       "      <td>0.246868</td>\n",
       "    </tr>\n",
       "    <tr>\n",
       "      <th>15</th>\n",
       "      <td>1283</td>\n",
       "      <td>2076</td>\n",
       "      <td>0.246868</td>\n",
       "    </tr>\n",
       "    <tr>\n",
       "      <th>16</th>\n",
       "      <td>1281</td>\n",
       "      <td>2076</td>\n",
       "      <td>0.246868</td>\n",
       "    </tr>\n",
       "    <tr>\n",
       "      <th>17</th>\n",
       "      <td>1279</td>\n",
       "      <td>2076</td>\n",
       "      <td>0.246868</td>\n",
       "    </tr>\n",
       "    <tr>\n",
       "      <th>18</th>\n",
       "      <td>1277</td>\n",
       "      <td>2076</td>\n",
       "      <td>0.246868</td>\n",
       "    </tr>\n",
       "    <tr>\n",
       "      <th>19</th>\n",
       "      <td>1276</td>\n",
       "      <td>2076</td>\n",
       "      <td>0.246868</td>\n",
       "    </tr>\n",
       "  </tbody>\n",
       "</table>\n",
       "</div>"
      ],
      "text/plain": [
       "    node1  node2  probability\n",
       "0    1278   2076     0.246868\n",
       "1    1280   2076     0.246868\n",
       "2    1282   2076     0.246868\n",
       "3    1284   2076     0.246868\n",
       "4    1286   2076     0.246868\n",
       "5    1288   2076     0.246868\n",
       "6    1290   2076     0.246868\n",
       "7    1292   2076     0.246868\n",
       "8    1294   2076     0.246868\n",
       "9    1295   2076     0.246868\n",
       "10   1293   2076     0.246868\n",
       "11   1291   2076     0.246868\n",
       "12   1289   2076     0.246868\n",
       "13   1287   2076     0.246868\n",
       "14   1285   2076     0.246868\n",
       "15   1283   2076     0.246868\n",
       "16   1281   2076     0.246868\n",
       "17   1279   2076     0.246868\n",
       "18   1277   2076     0.246868\n",
       "19   1276   2076     0.246868"
      ]
     },
     "execution_count": 17,
     "metadata": {},
     "output_type": "execute_result"
    }
   ],
   "source": [
    "predictions"
   ]
  },
  {
   "cell_type": "code",
   "execution_count": 18,
   "id": "7f03f06d-ca9c-499d-9f27-810f12c15624",
   "metadata": {
    "execution": {
     "iopub.execute_input": "2023-03-20T07:18:24.150351Z",
     "iopub.status.busy": "2023-03-20T07:18:24.150351Z",
     "iopub.status.idle": "2023-03-20T07:18:24.195972Z",
     "shell.execute_reply": "2023-03-20T07:18:24.195972Z",
     "shell.execute_reply.started": "2023-03-20T07:18:24.150351Z"
    }
   },
   "outputs": [
    {
     "data": {
      "text/plain": [
       "graphName                                                          mygraph\n",
       "database                                                           medical\n",
       "memoryUsage                                                               \n",
       "sizeInBytes                                                             -1\n",
       "nodeCount                                                             2008\n",
       "relationshipCount                                                    13571\n",
       "configuration            {'relationshipProjection': {'DIAGNOSED_WITH': ...\n",
       "density                                                           0.003367\n",
       "creationTime                           2023-03-20T15:18:21.209204100+08:00\n",
       "modificationTime                       2023-03-20T15:18:24.123448900+08:00\n",
       "schema                   {'graphProperties': {}, 'relationships': {'DIA...\n",
       "schemaWithOrientation    {'graphProperties': {}, 'relationships': {'DIA...\n",
       "Name: 0, dtype: object"
      ]
     },
     "execution_count": 18,
     "metadata": {},
     "output_type": "execute_result"
    }
   ],
   "source": [
    "pipe.drop()\n",
    "model.drop()\n",
    "G.drop()"
   ]
  },
  {
   "cell_type": "code",
   "execution_count": 19,
   "id": "c0529a63-4781-4666-9b37-928ee98fa245",
   "metadata": {
    "execution": {
     "iopub.execute_input": "2023-03-20T07:18:24.196952Z",
     "iopub.status.busy": "2023-03-20T07:18:24.196952Z",
     "iopub.status.idle": "2023-03-20T07:18:24.211950Z",
     "shell.execute_reply": "2023-03-20T07:18:24.211950Z",
     "shell.execute_reply.started": "2023-03-20T07:18:24.196952Z"
    },
    "tags": []
   },
   "outputs": [],
   "source": [
    "gds.close()"
   ]
  }
 ],
 "metadata": {
  "kernelspec": {
   "display_name": "Python 3 (ipykernel)",
   "language": "python",
   "name": "python3"
  },
  "language_info": {
   "codemirror_mode": {
    "name": "ipython",
    "version": 3
   },
   "file_extension": ".py",
   "mimetype": "text/x-python",
   "name": "python",
   "nbconvert_exporter": "python",
   "pygments_lexer": "ipython3",
   "version": "3.10.9"
  }
 },
 "nbformat": 4,
 "nbformat_minor": 5
}
