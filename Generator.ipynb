{
 "cells": [
  {
   "cell_type": "code",
   "execution_count": null,
   "id": "a183735c-29d5-4510-acf8-24c1cc997470",
   "metadata": {
    "tags": []
   },
   "outputs": [],
   "source": [
    "import random as rd\n",
    "import os"
   ]
  },
  {
   "cell_type": "code",
   "execution_count": null,
   "id": "d4790f08-7103-4e96-a445-66471dad17a2",
   "metadata": {
    "tags": []
   },
   "outputs": [],
   "source": [
    "patient_csv = 'patients.csv'\n",
    "patient_columns = \"PatientID,Age,Weight\\n\"\n",
    "\n",
    "drug_csv = 'drugs.csv'\n",
    "drug_columns = \"PatientID,Drug\\n\"\n",
    "\n",
    "diag_csv = 'diags.csv'\n",
    "diag_columns = \"PatientID,Diag\\n\"\n",
    "\n",
    "ihd_csv = 'ihds.csv'\n",
    "ihd_columns = \"PatientID,IHD\\n\""
   ]
  },
  {
   "cell_type": "code",
   "execution_count": null,
   "id": "a649eff5-3fea-4c16-99bd-58d7a0c25a68",
   "metadata": {
    "tags": []
   },
   "outputs": [],
   "source": [
    "DRUGS = ['Diab','Dyslipidaemia','Hypertension','Osteo']\n",
    "DIAGS = ['Diabetes','Hypertension','Renal']"
   ]
  },
  {
   "cell_type": "code",
   "execution_count": null,
   "id": "211851b3-a588-4e22-8ec9-6b789b305aeb",
   "metadata": {
    "tags": []
   },
   "outputs": [],
   "source": [
    "NUMBER_OF_PATIENTS = 1000"
   ]
  },
  {
   "cell_type": "code",
   "execution_count": null,
   "id": "984dfd8f-f099-4ad3-ba53-78484fc0de08",
   "metadata": {},
   "outputs": [],
   "source": [
    "PATH = './data/medical_' + str(NUMBER_OF_PATIENTS)"
   ]
  },
  {
   "cell_type": "code",
   "execution_count": null,
   "id": "393804ae-1d9b-4c94-8788-a4a75d1e08c7",
   "metadata": {
    "tags": []
   },
   "outputs": [],
   "source": [
    "RATIO_IHD = 0.6"
   ]
  },
  {
   "cell_type": "code",
   "execution_count": null,
   "id": "4870c075-528f-4c8d-999c-0e8b22c655f9",
   "metadata": {
    "tags": []
   },
   "outputs": [],
   "source": [
    "SEP = \",\"\n",
    "IHD = 'IHD'"
   ]
  },
  {
   "cell_type": "code",
   "execution_count": null,
   "id": "62f58978-af27-4e9b-a0c5-791b9b1dc1a4",
   "metadata": {
    "tags": []
   },
   "outputs": [],
   "source": [
    "def create_file(file_name, lines, columns):\n",
    "    with open(PATH + '/'+ file_name, 'w') as f:\n",
    "        if columns != '':\n",
    "            f.write(columns)\n",
    "        f.write('\\n'.join(lines))\n",
    "    f.close()"
   ]
  },
  {
   "cell_type": "code",
   "execution_count": null,
   "id": "a04c5af8-cd6a-40d9-8e27-8b7adea24ea3",
   "metadata": {
    "tags": []
   },
   "outputs": [],
   "source": [
    "def create():\n",
    "    patients = []\n",
    "    drugs = []\n",
    "    diags = []\n",
    "    ihds = []\n",
    "    for i in range(0, NUMBER_OF_PATIENTS):\n",
    "        patients.append(str(i) + SEP + str(rd.randint(18,80)) + SEP + str(rd.randint(45,120)))\n",
    "        if (i < NUMBER_OF_PATIENTS * RATIO_IHD): # IHD data\n",
    "            for d in DRUGS:\n",
    "                drugs.append(str(i) + SEP + d)\n",
    "            for d in DIAGS:\n",
    "                diags.append(str(i) + SEP + d)\n",
    "            ihds.append(str(i) + SEP + IHD)\n",
    "        else: # Data to be checked\n",
    "            tmp_DRUGS = rd.sample(DRUGS, k=rd.randint(0, len(DRUGS)))\n",
    "            for d in tmp_DRUGS:\n",
    "                drugs.append(str(i) + SEP + d)\n",
    "            tmp_DIAGS = rd.sample(DIAGS, k=rd.randint(0, len(DIAGS)))\n",
    "            for d in tmp_DIAGS:\n",
    "                diags.append(str(i) + SEP + d)\n",
    "    return patients, drugs, diags, ihds"
   ]
  },
  {
   "cell_type": "code",
   "execution_count": null,
   "id": "17c462f2-a2fc-4b1b-ae38-9acb0f4057bc",
   "metadata": {
    "tags": []
   },
   "outputs": [],
   "source": [
    "patients, drugs, diags, ihds = create()"
   ]
  },
  {
   "cell_type": "code",
   "execution_count": null,
   "id": "d486bd0e-e4eb-48f5-bc6f-b1825ede0b3f",
   "metadata": {},
   "outputs": [],
   "source": [
    "isExist = os.path.exists(PATH)\n",
    "if not isExist:\n",
    "    os.makedirs(PATH)"
   ]
  },
  {
   "cell_type": "code",
   "execution_count": null,
   "id": "375dfbd3-a885-4030-ad0f-b6e49668f153",
   "metadata": {
    "tags": []
   },
   "outputs": [],
   "source": [
    "create_file(patient_csv, patients, patient_columns)"
   ]
  },
  {
   "cell_type": "code",
   "execution_count": null,
   "id": "18e56e4b-730a-464a-8f0b-597c8f776cb1",
   "metadata": {
    "tags": []
   },
   "outputs": [],
   "source": [
    "create_file(drug_csv, drugs, drug_columns)"
   ]
  },
  {
   "cell_type": "code",
   "execution_count": null,
   "id": "21590701-5a62-48be-a0bd-9b3a110bf402",
   "metadata": {
    "tags": []
   },
   "outputs": [],
   "source": [
    "create_file(diag_csv, diags, diag_columns)"
   ]
  },
  {
   "cell_type": "code",
   "execution_count": null,
   "id": "02e59e03-97fc-48d5-ade9-8d95b2229d2c",
   "metadata": {
    "tags": []
   },
   "outputs": [],
   "source": [
    "create_file(ihd_csv, ihds, ihd_columns)"
   ]
  },
  {
   "cell_type": "code",
   "execution_count": null,
   "id": "ae339849-855d-43ff-a10b-5b2111100aad",
   "metadata": {},
   "outputs": [],
   "source": []
  }
 ],
 "metadata": {
  "kernelspec": {
   "display_name": "Python 3 (ipykernel)",
   "language": "python",
   "name": "python3"
  },
  "language_info": {
   "codemirror_mode": {
    "name": "ipython",
    "version": 3
   },
   "file_extension": ".py",
   "mimetype": "text/x-python",
   "name": "python",
   "nbconvert_exporter": "python",
   "pygments_lexer": "ipython3",
   "version": "3.10.9"
  }
 },
 "nbformat": 4,
 "nbformat_minor": 5
}
